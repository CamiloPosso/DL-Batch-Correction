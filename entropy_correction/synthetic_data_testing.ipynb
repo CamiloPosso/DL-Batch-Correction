{
 "cells": [
  {
   "cell_type": "code",
   "execution_count": 1,
   "metadata": {},
   "outputs": [],
   "source": [
    "import torch\n",
    "import math\n",
    "import random\n",
    "import numpy\n",
    "\n",
    "import pandas as pd\n",
    "import matplotlib.pyplot as plt\n",
    "from torch.utils.data import DataLoader, TensorDataset, Subset\n",
    "\n",
    "\n",
    "from transformer_batch_corrections import Correction_data\n",
    "from asses_batch_effect import batchless_entropy_estimate, abs_effect_estimate"
   ]
  },
  {
   "cell_type": "code",
   "execution_count": 2,
   "metadata": {},
   "outputs": [],
   "source": [
    "PATH_TO_DATA   = 'data/synthetic_data_batchPercent_60_groupPercent_10.txt'\n",
    "CrossTab = pd.read_csv(PATH_TO_DATA,   delimiter = '\\t')\n",
    "batch_size = 20\n",
    "n_batches = 6"
   ]
  },
  {
   "cell_type": "code",
   "execution_count": 7,
   "metadata": {},
   "outputs": [],
   "source": [
    "test = Correction_data(CrossTab = CrossTab, depth = 1, reg_factor = 1, \n",
    "                       n_batches = n_batches, batch_size = batch_size,  \n",
    "                       test_size = 2000, random_state = 107)"
   ]
  },
  {
   "cell_type": "code",
   "execution_count": 8,
   "metadata": {},
   "outputs": [
    {
     "name": "stdout",
     "output_type": "stream",
     "text": [
      "Epoch 0 report : testing loss is 14.511847478433502 while full loss is 14.819132013861182 and absolute effect in testing data is 14.741463962923032\n",
      "\n",
      "Training loss is 13.662564764528556\n",
      "Training loss is 8.632508083498982\n",
      "Epoch 2 report : testing loss is 4.631076222142574 while full loss is 4.714689826184447 and absolute effect in testing data is 4.900219231971529\n",
      "\n",
      "Training loss is 1.842663520144798\n",
      "Training loss is 0.12203588525551533\n",
      "Epoch 4 report : testing loss is 0.04857651650227174 while full loss is 0.05041534730082734 and absolute effect in testing data is 0.5842697456066921\n",
      "\n",
      "Training loss is 0.12462193203916516\n",
      "Training loss is 0.10732284705233189\n",
      "Epoch 6 report : testing loss is 0.0392046025294311 while full loss is 0.0480501869277829 and absolute effect in testing data is 0.5643669690387945\n",
      "\n",
      "Training loss is 0.11474870398601751\n",
      "Training loss is 0.10683988784550257\n",
      "Epoch 8 report : testing loss is 0.03959755055699851 while full loss is 0.05181461323363079 and absolute effect in testing data is 0.5711951751570702\n",
      "\n",
      "Training loss is 0.10928164743700895\n",
      "Training loss is 0.10549337695760445\n",
      "Epoch 10 report : testing loss is 0.035448473206887314 while full loss is 0.044158313269679575 and absolute effect in testing data is 0.5393253951325088\n",
      "\n",
      "Training loss is 0.11462716662407976\n"
     ]
    },
    {
     "ename": "KeyboardInterrupt",
     "evalue": "",
     "output_type": "error",
     "traceback": [
      "\u001b[1;31m---------------------------------------------------------------------------\u001b[0m",
      "\u001b[1;31mKeyboardInterrupt\u001b[0m                         Traceback (most recent call last)",
      "\u001b[1;32mc:\\Users\\poss982\\Documents\\GitHub\\DL-Batch-Correction\\entropy_correction\\synthetic_data_testing.ipynb Cell 4\u001b[0m in \u001b[0;36m<cell line: 1>\u001b[1;34m()\u001b[0m\n\u001b[1;32m----> <a href='vscode-notebook-cell:/c%3A/Users/poss982/Documents/GitHub/DL-Batch-Correction/entropy_correction/synthetic_data_testing.ipynb#W3sZmlsZQ%3D%3D?line=0'>1</a>\u001b[0m test\u001b[39m.\u001b[39;49mtrain_model(epochs \u001b[39m=\u001b[39;49m \u001b[39m100\u001b[39;49m, report_frequency \u001b[39m=\u001b[39;49m \u001b[39m2\u001b[39;49m, abs_effect_cutoff \u001b[39m=\u001b[39;49m \u001b[39m0.0\u001b[39;49m, robust_cutoff \u001b[39m=\u001b[39;49m \u001b[39m0\u001b[39;49m, run_name \u001b[39m=\u001b[39;49m \u001b[39m\"\u001b[39;49m\u001b[39msynth_fry_reg_0.3\u001b[39;49m\u001b[39m\"\u001b[39;49m)\n",
      "File \u001b[1;32mc:\\Users\\poss982\\Documents\\GitHub\\DL-Batch-Correction\\entropy_correction\\transformer_batch_corrections.py:436\u001b[0m, in \u001b[0;36mCorrection_data.train_model\u001b[1;34m(self, epochs, abs_effect_cutoff, robust_cutoff, minibatch_bias, report_frequency, run_name)\u001b[0m\n\u001b[0;32m    434\u001b[0m y, z \u001b[39m=\u001b[39m \u001b[39mself\u001b[39m\u001b[39m.\u001b[39mcompute_correction(y, mask)\n\u001b[0;32m    435\u001b[0m loss \u001b[39m=\u001b[39m \u001b[39mself\u001b[39m\u001b[39m.\u001b[39mobjective(y, z)\n\u001b[1;32m--> 436\u001b[0m loss\u001b[39m.\u001b[39;49mbackward()\n\u001b[0;32m    437\u001b[0m \u001b[39mself\u001b[39m\u001b[39m.\u001b[39moptimizer\u001b[39m.\u001b[39mstep()\n\u001b[0;32m    438\u001b[0m training_loss \u001b[39m+\u001b[39m\u001b[39m=\u001b[39m \u001b[39mfloat\u001b[39m(loss)\n",
      "File \u001b[1;32mc:\\Users\\poss982\\AppData\\Local\\Programs\\Python\\Python310\\lib\\site-packages\\torch\\_tensor.py:396\u001b[0m, in \u001b[0;36mTensor.backward\u001b[1;34m(self, gradient, retain_graph, create_graph, inputs)\u001b[0m\n\u001b[0;32m    387\u001b[0m \u001b[39mif\u001b[39;00m has_torch_function_unary(\u001b[39mself\u001b[39m):\n\u001b[0;32m    388\u001b[0m     \u001b[39mreturn\u001b[39;00m handle_torch_function(\n\u001b[0;32m    389\u001b[0m         Tensor\u001b[39m.\u001b[39mbackward,\n\u001b[0;32m    390\u001b[0m         (\u001b[39mself\u001b[39m,),\n\u001b[1;32m   (...)\u001b[0m\n\u001b[0;32m    394\u001b[0m         create_graph\u001b[39m=\u001b[39mcreate_graph,\n\u001b[0;32m    395\u001b[0m         inputs\u001b[39m=\u001b[39minputs)\n\u001b[1;32m--> 396\u001b[0m torch\u001b[39m.\u001b[39;49mautograd\u001b[39m.\u001b[39;49mbackward(\u001b[39mself\u001b[39;49m, gradient, retain_graph, create_graph, inputs\u001b[39m=\u001b[39;49minputs)\n",
      "File \u001b[1;32mc:\\Users\\poss982\\AppData\\Local\\Programs\\Python\\Python310\\lib\\site-packages\\torch\\autograd\\__init__.py:173\u001b[0m, in \u001b[0;36mbackward\u001b[1;34m(tensors, grad_tensors, retain_graph, create_graph, grad_variables, inputs)\u001b[0m\n\u001b[0;32m    168\u001b[0m     retain_graph \u001b[39m=\u001b[39m create_graph\n\u001b[0;32m    170\u001b[0m \u001b[39m# The reason we repeat same the comment below is that\u001b[39;00m\n\u001b[0;32m    171\u001b[0m \u001b[39m# some Python versions print out the first line of a multi-line function\u001b[39;00m\n\u001b[0;32m    172\u001b[0m \u001b[39m# calls in the traceback and some print out the last line\u001b[39;00m\n\u001b[1;32m--> 173\u001b[0m Variable\u001b[39m.\u001b[39;49m_execution_engine\u001b[39m.\u001b[39;49mrun_backward(  \u001b[39m# Calls into the C++ engine to run the backward pass\u001b[39;49;00m\n\u001b[0;32m    174\u001b[0m     tensors, grad_tensors_, retain_graph, create_graph, inputs,\n\u001b[0;32m    175\u001b[0m     allow_unreachable\u001b[39m=\u001b[39;49m\u001b[39mTrue\u001b[39;49;00m, accumulate_grad\u001b[39m=\u001b[39;49m\u001b[39mTrue\u001b[39;49;00m)\n",
      "\u001b[1;31mKeyboardInterrupt\u001b[0m: "
     ]
    }
   ],
   "source": [
    "test.train_model(epochs = 100, report_frequency = 2, abs_effect_cutoff = 0.0, robust_cutoff = 0, run_name = \"synth_fry_reg_0.3\")"
   ]
  },
  {
   "cell_type": "code",
   "execution_count": null,
   "metadata": {},
   "outputs": [],
   "source": [
    "test.scatter_comparison()"
   ]
  }
 ],
 "metadata": {
  "kernelspec": {
   "display_name": "Python 3.10.5 64-bit",
   "language": "python",
   "name": "python3"
  },
  "language_info": {
   "codemirror_mode": {
    "name": "ipython",
    "version": 3
   },
   "file_extension": ".py",
   "mimetype": "text/x-python",
   "name": "python",
   "nbconvert_exporter": "python",
   "pygments_lexer": "ipython3",
   "version": "3.10.5"
  },
  "orig_nbformat": 4,
  "vscode": {
   "interpreter": {
    "hash": "640db03823d881b8a8fc569947ee30f9c13a0b41ec0c9dfec6424996e26d1a73"
   }
  }
 },
 "nbformat": 4,
 "nbformat_minor": 2
}
